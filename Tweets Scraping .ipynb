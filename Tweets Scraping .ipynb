{
 "cells": [
  {
   "cell_type": "code",
   "execution_count": 2,
   "id": "2a860d71",
   "metadata": {},
   "outputs": [],
   "source": [
    "import snscrape.modules.twitter as sntweet"
   ]
  },
  {
   "cell_type": "code",
   "execution_count": 3,
   "id": "9fd1a261",
   "metadata": {},
   "outputs": [],
   "source": [
    "scrape = sntweet.TwitterSearchScraper(\"pringlisht\")\n",
    "for tweet in scrape.get_items():\n",
    "    break;"
   ]
  },
  {
   "cell_type": "code",
   "execution_count": 4,
   "id": "4368c300",
   "metadata": {},
   "outputs": [
    {
     "data": {
      "text/plain": [
       "Tweet(url='https://twitter.com/pringlisht/status/1503713793511202817', date=datetime.datetime(2022, 3, 15, 12, 44, 40, tzinfo=datetime.timezone.utc), rawContent='Grades bhi shuru hotay hi khatam ho gaye aur love life bhi', renderedContent='Grades bhi shuru hotay hi khatam ho gaye aur love life bhi', id=1503713793511202817, user=User(username='pringlisht', id=1130837009151471617, displayname='Pringles', rawDescription='Fingers-crossed🤞\\n\\nPakistan❣️', renderedDescription='Fingers-crossed🤞\\n\\nPakistan❣️', descriptionLinks=None, verified=False, created=datetime.datetime(2019, 5, 21, 14, 5, 27, tzinfo=datetime.timezone.utc), followersCount=7, friendsCount=28, statusesCount=7, favouritesCount=248, listedCount=0, mediaCount=0, location='Islamabad, Pakistan', protected=False, link=None, profileImageUrl='https://pbs.twimg.com/profile_images/1497449118347763713/y0UvuJMT_normal.jpg', profileBannerUrl='https://pbs.twimg.com/profile_banners/1130837009151471617/1589189749', label=None), replyCount=0, retweetCount=0, likeCount=0, quoteCount=0, conversationId=1503713793511202817, lang='hi', source='<a href=\"http://twitter.com/download/android\" rel=\"nofollow\">Twitter for Android</a>', sourceUrl='http://twitter.com/download/android', sourceLabel='Twitter for Android', links=None, media=None, retweetedTweet=None, quotedTweet=None, inReplyToTweetId=None, inReplyToUser=None, mentionedUsers=None, coordinates=None, place=None, hashtags=None, cashtags=None, card=None, viewCount=None, vibe=None)"
      ]
     },
     "execution_count": 4,
     "metadata": {},
     "output_type": "execute_result"
    }
   ],
   "source": [
    "tweet"
   ]
  },
  {
   "cell_type": "code",
   "execution_count": 11,
   "id": "9350646e",
   "metadata": {},
   "outputs": [
    {
     "data": {
      "text/plain": [
       "(0, 'pringlisht', 'Grades bhi shuru hotay hi khatam ho gaye aur love life bhi')"
      ]
     },
     "execution_count": 11,
     "metadata": {},
     "output_type": "execute_result"
    }
   ],
   "source": [
    "tweet.likeCount, tweet.user.username, tweet.rawContent"
   ]
  },
  {
   "cell_type": "code",
   "execution_count": 13,
   "id": "381ab9e4",
   "metadata": {},
   "outputs": [],
   "source": [
    "tweets = []"
   ]
  },
  {
   "cell_type": "code",
   "execution_count": 14,
   "id": "854f7021",
   "metadata": {},
   "outputs": [],
   "source": [
    "for i, tweet in enumerate(scrape.get_items()):\n",
    "    data = [\n",
    "        tweet.user.username,\n",
    "        tweet.rawContent,\n",
    "        tweet.date,\n",
    "        tweet.media\n",
    "    ]\n",
    "    tweets.append(data)\n",
    "    if(i > 50):\n",
    "        break;"
   ]
  },
  {
   "cell_type": "code",
   "execution_count": 15,
   "id": "a2c77644",
   "metadata": {},
   "outputs": [
    {
     "data": {
      "text/plain": [
       "[['pringlisht',\n",
       "  'Grades bhi shuru hotay hi khatam ho gaye aur love life bhi',\n",
       "  datetime.datetime(2022, 3, 15, 12, 44, 40, tzinfo=datetime.timezone.utc),\n",
       "  None],\n",
       " ['pringlisht',\n",
       "  \"Starting a small journal it's not like I have many followers. So, my secret will be safe with 7 people xD.\",\n",
       "  datetime.datetime(2022, 2, 26, 5, 45, 49, tzinfo=datetime.timezone.utc),\n",
       "  None],\n",
       " ['pringlisht',\n",
       "  '@wotdafalooda Kisi ne ap se pocha?',\n",
       "  datetime.datetime(2021, 3, 5, 10, 18, 10, tzinfo=datetime.timezone.utc),\n",
       "  None],\n",
       " ['pringlisht',\n",
       "  'That moment when you get your past flashbacks...',\n",
       "  datetime.datetime(2020, 11, 24, 18, 34, 10, tzinfo=datetime.timezone.utc),\n",
       "  None],\n",
       " ['pringlisht',\n",
       "  'Am I the only one who wants to escape the Earth?',\n",
       "  datetime.datetime(2020, 11, 16, 17, 34, 28, tzinfo=datetime.timezone.utc),\n",
       "  None],\n",
       " ['pringlisht',\n",
       "  'Finally, made my first malware software as an intermediate python programmer.\\n#Python #pythonprogramming #Hacking',\n",
       "  datetime.datetime(2020, 9, 13, 18, 20, 2, tzinfo=datetime.timezone.utc),\n",
       "  None],\n",
       " ['pringlisht',\n",
       "  'Is there any humanity left in the world?',\n",
       "  datetime.datetime(2020, 8, 4, 18, 35, 5, tzinfo=datetime.timezone.utc),\n",
       "  None]]"
      ]
     },
     "execution_count": 15,
     "metadata": {},
     "output_type": "execute_result"
    }
   ],
   "source": [
    "tweets"
   ]
  },
  {
   "cell_type": "code",
   "execution_count": null,
   "id": "cc94a2f8",
   "metadata": {},
   "outputs": [],
   "source": []
  }
 ],
 "metadata": {
  "kernelspec": {
   "display_name": "Python 3 (ipykernel)",
   "language": "python",
   "name": "python3"
  },
  "language_info": {
   "codemirror_mode": {
    "name": "ipython",
    "version": 3
   },
   "file_extension": ".py",
   "mimetype": "text/x-python",
   "name": "python",
   "nbconvert_exporter": "python",
   "pygments_lexer": "ipython3",
   "version": "3.9.7"
  }
 },
 "nbformat": 4,
 "nbformat_minor": 5
}
